{
 "cells": [
  {
   "cell_type": "markdown",
   "metadata": {},
   "source": [
    "# Curso Intro Sistemas Complejos\n",
    "## Dr. Cristian Huepe\n",
    "\n",
    "### Taller I: Redes complejas, biológicas, tecnológicas y sociales\n",
    "### Taller II: Movimiento colectivo, Materia Activa y AutoOrganización\n",
    "### Taller III: Sistemas Complejos en Dinámicas Sociales, Gestión y Emprendimiento\n",
    "### Taller IV: Sistemas complejos en el Arte y la Cultura\n",
    "\n",
    "\n",
    "#### Taller I, 3 de Octubre 2016\n",
    "<b>¿Qué es un sistema complejo?</b>\n",
    "Está compuesto por varias partes interconectadas, cuyos vínculos crean información adicional, no visibles antes por el observador.  Surgen elementos y propiedades nuevas no relacionadas anteriormente.  Dichas propiedades se les denomina propiedades emergentes.\n",
    "\n",
    "<b>Propiedades emergentes</b>\n",
    "Propiedades del sistema que no son explicables por las propiedades de cada elemento que compone el sistema, en donde el todo es más que la suma de sus partes\n",
    "\n",
    "En un sistema complejo importan las conexiones interdependientes.  Sus propiedades no son promediables, están fuera de equilibrio, son adaptativas.\n",
    "Estos sistemas son no lineales y son dependientes de la trayectoria.\n",
    "\n",
    "El caos es un regimen recurrente en sistemas complejos\n",
    "\n",
    "\n",
    "<b>Ejemplos de sistemas complejos</b>\n",
    "* Dunas\n",
    "* Péndulo caótico\n",
    "* Robótica colectiva\n",
    "* Bandadas, cardúmenes, plaga de langostas\n",
    "\n",
    "##### Autómatas Celulares\n",
    "Un modelo matemático de un sistema dinámico, compuesto de un monton de componentes que evolucionan según reglas definidas\n",
    "\n",
    "##### Redes complejas\n",
    "Se utilizan para describir sistemas complejos que no dependen del espacio. Pueden tener dos características que las definen:\n",
    "1. Estructura\n",
    "2. Dinámica: Tu estado depende de los estados de quiénes están conectados contigo\n",
    "\n",
    "Adicionalmente, sus conexione deben ser no triviales.\n",
    "Buscar multiplex networks.\n",
    "\n",
    "##### Ejemplos de redes complejas\n",
    "* Redes Sociales\n",
    "* Redes Neuronales\n",
    "* Redes de transporte\n",
    "* Redes tróficas\n",
    "* Redes de Gestión (organigrama)\n",
    "* Smart Grids\n",
    "* Redes cosmológicas\n",
    "\n",
    "\n",
    "\n",
    "\n",
    "\n"
   ]
  },
  {
   "cell_type": "code",
   "execution_count": null,
   "metadata": {
    "collapsed": true
   },
   "outputs": [],
   "source": []
  }
 ],
 "metadata": {
  "kernelspec": {
   "display_name": "Python 2",
   "language": "python",
   "name": "python2"
  },
  "language_info": {
   "codemirror_mode": {
    "name": "ipython",
    "version": 2
   },
   "file_extension": ".py",
   "mimetype": "text/x-python",
   "name": "python",
   "nbconvert_exporter": "python",
   "pygments_lexer": "ipython2",
   "version": "2.7.11"
  }
 },
 "nbformat": 4,
 "nbformat_minor": 0
}
